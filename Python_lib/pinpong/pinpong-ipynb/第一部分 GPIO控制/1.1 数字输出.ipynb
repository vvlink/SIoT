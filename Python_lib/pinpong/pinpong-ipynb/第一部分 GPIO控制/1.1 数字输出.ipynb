{
 "cells": [
  {
   "cell_type": "markdown",
   "metadata": {},
   "source": [
    "# pinpong入门之数字输出"
   ]
  },
  {
   "cell_type": "markdown",
   "metadata": {},
   "source": [
    "    描述：给Arduino引脚设置高（1）、低（0）两种电平状态。\n",
    "    \n",
    "    实现：调用pinpong库Pin类中的write_digital(value)函数，给引脚设置电平值。value指要设置的电平值,1代表高电平,0代表低电平。"
   ]
  },
  {
   "cell_type": "markdown",
   "metadata": {},
   "source": [
    "### 准备工作\n",
    "\n",
    "1）利用Arduino自带LED。Arduino的13号口（即D13）默认接上了一个LED，可以用高低电平来控制LED的开和关。\n",
    "\n",
    "2）外接LED模块。将任意一个LED模块接在Arduino的13号口（即D13）。"
   ]
  },
  {
   "cell_type": "markdown",
   "metadata": {},
   "source": [
    "### 实验步骤\n",
    "\n",
    "1.导入pinpong库"
   ]
  },
  {
   "cell_type": "code",
   "execution_count": 2,
   "metadata": {},
   "outputs": [],
   "source": [
    "from pinpong.board import Board,Pin"
   ]
  },
  {
   "cell_type": "markdown",
   "metadata": {},
   "source": [
    "2.初始化开发板"
   ]
  },
  {
   "cell_type": "code",
   "execution_count": 3,
   "metadata": {},
   "outputs": [
    {
     "name": "stdout",
     "output_type": "stream",
     "text": [
      "\n",
      "  __________________________________________\n",
      " |    ____  _       ____                    |\n",
      " |   / __ \\(_)___  / __ \\____  ____  ____ _ |\n",
      " |  / /_/ / / __ \\/ /_/ / __ \\/ __ \\/ __ `/ |\n",
      " | / ____/ / / / / ____/ /_/ / / / / /_/ /  |\n",
      " |/_/   /_/_/ /_/_/    \\____/_/ /_/\\__, /   |\n",
      " |   v0.3.3  Designed by DFRobot  /____/    |\n",
      " |__________________________________________|\n",
      " \n",
      "[01] Python3.6.6 Darwin-20.2.0-x86_64-i386-64bit Board: UNO\n",
      "Automatically selected ->  /dev/cu.usbmodem14101\n",
      "[10] Opening /dev/cu.usbmodem14101\n",
      "[15] Close /dev/cu.usbmodem14101\n",
      "[32] Firmata ID: 2.6\n",
      "[10] Opening /dev/cu.usbmodem14101...\n",
      "[20] Waiting 4 seconds(arduino_wait) for Arduino devices to reset...\n",
      "[22] Arduino compatible device found and connected to /dev/cu.usbmodem14101\n",
      "[30] Retrieving Arduino Firmware ID...\n",
      "[32] Arduino Firmware ID: 2.6 DFRobot firmata\n",
      "[40] Retrieving analog map...\n",
      "[42] Auto-discovery complete. Found 20 Digital Pins and 6 Analog Pins\n",
      "------------------------------\n",
      "All right. PinPong go...\n",
      "------------------------------\n",
      "\n"
     ]
    },
    {
     "data": {
      "text/plain": [
       "<pinpong.board.Board at 0x7f9d2072c470>"
      ]
     },
     "execution_count": 3,
     "metadata": {},
     "output_type": "execute_result"
    }
   ],
   "source": [
    "Board(\"uno\").begin()  # 选择板型(uno、leonardo、xugu)和端口号，不输入端口号则进行自动识别"
   ]
  },
  {
   "cell_type": "markdown",
   "metadata": {},
   "source": [
    "3.初始化引脚\n",
    "\n",
    "“Pin.OUT”为输出模式。"
   ]
  },
  {
   "cell_type": "code",
   "execution_count": 4,
   "metadata": {},
   "outputs": [],
   "source": [
    "p = Pin(Pin.D13, Pin.OUT) #引脚初始化为电平输出"
   ]
  },
  {
   "cell_type": "markdown",
   "metadata": {},
   "source": [
    "4.设置引脚为高电平\n",
    "\n",
    "设置为1（高电平），点亮13脚的LED灯"
   ]
  },
  {
   "cell_type": "code",
   "execution_count": 5,
   "metadata": {},
   "outputs": [],
   "source": [
    "# 设置 13号引脚为高电平\n",
    "p.write_digital(1)"
   ]
  },
  {
   "cell_type": "markdown",
   "metadata": {},
   "source": [
    "5.设置引脚为低电平\n",
    "\n",
    "设置为0（低电平），熄灭13脚的LED灯"
   ]
  },
  {
   "cell_type": "code",
   "execution_count": 6,
   "metadata": {},
   "outputs": [],
   "source": [
    "p.write_digital(0) # 设置 13 号引脚为低电平"
   ]
  },
  {
   "cell_type": "markdown",
   "metadata": {},
   "source": [
    "6.循环闪烁\n",
    "\n",
    "循环点亮并且关闭LED，即闪烁灯效果。"
   ]
  },
  {
   "cell_type": "code",
   "execution_count": 7,
   "metadata": {},
   "outputs": [
    {
     "name": "stdout",
     "output_type": "stream",
     "text": [
      "1\n",
      "0\n",
      "1\n",
      "0\n",
      "1\n",
      "0\n",
      "1\n",
      "0\n"
     ]
    },
    {
     "ename": "KeyboardInterrupt",
     "evalue": "",
     "output_type": "error",
     "traceback": [
      "\u001b[0;31m---------------------------------------------------------------------------\u001b[0m",
      "\u001b[0;31mKeyboardInterrupt\u001b[0m                         Traceback (most recent call last)",
      "\u001b[0;32m<ipython-input-7-b79350633391>\u001b[0m in \u001b[0;36m<module>\u001b[0;34m\u001b[0m\n\u001b[1;32m      6\u001b[0m     \u001b[0mp\u001b[0m\u001b[0;34m.\u001b[0m\u001b[0mwrite_digital\u001b[0m\u001b[0;34m(\u001b[0m\u001b[0;36m0\u001b[0m\u001b[0;34m)\u001b[0m \u001b[0;31m#输出低电平\u001b[0m\u001b[0;34m\u001b[0m\u001b[0m\n\u001b[1;32m      7\u001b[0m     \u001b[0mprint\u001b[0m\u001b[0;34m(\u001b[0m\u001b[0;34m\"0\"\u001b[0m\u001b[0;34m)\u001b[0m \u001b[0;31m#终端打印信息\u001b[0m\u001b[0;34m\u001b[0m\u001b[0m\n\u001b[0;32m----> 8\u001b[0;31m     \u001b[0mtime\u001b[0m\u001b[0;34m.\u001b[0m\u001b[0msleep\u001b[0m\u001b[0;34m(\u001b[0m\u001b[0;36m1\u001b[0m\u001b[0;34m)\u001b[0m \u001b[0;31m#等待1秒 保持状态\u001b[0m\u001b[0;34m\u001b[0m\u001b[0m\n\u001b[0m",
      "\u001b[0;31mKeyboardInterrupt\u001b[0m: "
     ]
    }
   ],
   "source": [
    "import time # 导入 time 模块\n",
    "while True:\n",
    "    p.write_digital(1) #输出高电平\n",
    "    print(\"1\") #终端打印信息\n",
    "    time.sleep(1) #等待1秒 保持状态\n",
    "    p.write_digital(0) #输出低电平\n",
    "    print(\"0\") #终端打印信息\n",
    "    time.sleep(1) #等待1秒 保持状态"
   ]
  },
  {
   "cell_type": "markdown",
   "metadata": {},
   "source": [
    "### 范例：闪烁灯\n",
    "\n",
    "让Arduino自带的LED(接在13号引脚，即D13)闪烁，设置为亮1秒熄灭1秒。\n",
    "\n",
    "**注：**如果需要运行下面的程序或者关闭窗口，请先点击“服务”，执行“重启 & 清空输出”。"
   ]
  },
  {
   "cell_type": "code",
   "execution_count": null,
   "metadata": {},
   "outputs": [],
   "source": [
    "import time # 导入 time 模块\n",
    "from pinpong.board import Board,Pin\n",
    "\n",
    "Board(\"uno\").begin() \n",
    "led = Pin(Pin.D13, Pin.OUT) #引脚初始化为电平输出\n",
    "\n",
    "while True:\n",
    "    led.write_digital(1) #输出高电平\n",
    "    print(\"1\") #终端打印信息\n",
    "    time.sleep(1) #等待1秒 保持状态\n",
    "    led.write_digital(0) #输出低电平\n",
    "    print(\"0\") #终端打印信息\n",
    "    time.sleep(1) #等待1秒 保持状态"
   ]
  },
  {
   "cell_type": "markdown",
   "metadata": {},
   "source": [
    "**注：**运行到这里，如果需要运行下面的程序或者关闭窗口，请先点击上方的黑色正方形中断服务。"
   ]
  }
 ],
 "metadata": {
  "kernelspec": {
   "display_name": "Python 3",
   "language": "python",
   "name": "python3"
  },
  "language_info": {
   "codemirror_mode": {
    "name": "ipython",
    "version": 3
   },
   "file_extension": ".py",
   "mimetype": "text/x-python",
   "name": "python",
   "nbconvert_exporter": "python",
   "pygments_lexer": "ipython3",
   "version": "3.6.6"
  }
 },
 "nbformat": 4,
 "nbformat_minor": 4
}
