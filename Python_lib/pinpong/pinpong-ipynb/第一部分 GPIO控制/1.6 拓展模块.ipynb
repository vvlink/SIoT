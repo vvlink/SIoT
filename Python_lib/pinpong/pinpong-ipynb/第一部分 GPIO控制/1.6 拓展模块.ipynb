{
 "cells": [
  {
   "cell_type": "markdown",
   "metadata": {},
   "source": [
    "# pinpong入门之拓展模块"
   ]
  },
  {
   "cell_type": "markdown",
   "metadata": {},
   "source": [
    "    描述：开源硬件的还有很多电子模块，直接用读取或者控制引脚电平的方式是无法使用的，如DH11温湿度传感器，还有各种支持i2C协议的模块。\n",
    "    \n",
    "    实现：pinpong库提供了大量的扩展库，支持常见的电子模块，还在不断更新中。可以通过查询pinpong的官方文档获得各种范例代码，也可以通过pinpong库自带的命令行工具来获取。"
   ]
  },
  {
   "cell_type": "markdown",
   "metadata": {},
   "source": [
    "### 实验步骤\n",
    "\n",
    "1.运行pinpong的命令行工具\n",
    "\n",
    "pinpong提供了一个命令行工具，能够列出所有支持的扩展模块。只要安装过pinpong库，在命令行输入pinpong即可。"
   ]
  },
  {
   "cell_type": "code",
   "execution_count": 4,
   "metadata": {},
   "outputs": [
    {
     "name": "stdout",
     "output_type": "stream",
     "text": [
      "\n",
      "  __________________________________________\n",
      " |    ____  _       ____                    |\n",
      " |   / __ \\(_)___  / __ \\____  ____  ____ _ |\n",
      " |  / /_/ / / __ \\/ /_/ / __ \\/ __ \\/ __ `/ |\n",
      " | / ____/ / / / / ____/ /_/ / / / / /_/ /  |\n",
      " |/_/   /_/_/ /_/_/    \\____/_/ /_/\\__, /   |\n",
      " |   v0.3.3  Designed by DFRobot  /____/    |\n",
      " |__________________________________________|\n",
      " \n",
      "[1]环境信息(Environment information)：Python3.8.5  macOS-10.16-x86_64-i386-64bit\n",
      "\n",
      "[2]文档网址(Document URL)：https://pinpong.readthedocs.io\n",
      "\n",
      "[3]终端命令(Commands)：\n",
      "   pinpong              pinpong库的帮助信息\n",
      "   pinpong libs list    pinpong库列表\n",
      "   pinpong libs xxx     xxx库的使用方法\n",
      "\n",
      "[4]串口列表(Serial ports list):\n",
      "   /dev/cu.Bluetooth-Incoming-Port - n/a\n",
      "   /dev/cu.AirPods-WirelessiAP - n/a\n"
     ]
    }
   ],
   "source": [
    "! pinpong"
   ]
  },
  {
   "cell_type": "markdown",
   "metadata": {},
   "source": [
    "2.查看支持的模块列表\n",
    "\n",
    "按照提示，输入pinpong libs list，即可看到所有的模块列表。"
   ]
  },
  {
   "cell_type": "code",
   "execution_count": 5,
   "metadata": {},
   "outputs": [
    {
     "name": "stdout",
     "output_type": "stream",
     "text": [
      "\n",
      "[-] 库列表(Libs list):\n",
      "board\n",
      "pin\n",
      "servo\n",
      "lcd1602_i2c\n",
      "mlx90614\n",
      "tcs34725\n",
      "urm09\n",
      "dht11\n",
      "dht22\n",
      "neopixel\n",
      "sr04_urm10\n",
      "rgb1602\n",
      "tone\n",
      "softspi\n",
      "pwm\n",
      "adc\n",
      "i2c\n",
      "ir\n",
      "ds1307\n",
      "paj7620u2\n",
      "bno055\n",
      "bmp280\n",
      "pn532\n",
      "ds18b20\n",
      "hx711\n",
      "tds\n",
      "heartrate\n",
      "bme280\n",
      "vl53l0\n",
      "lis2dh\n",
      "bmp388\n",
      "ina219\n",
      "ccs811\n",
      "ads1115\n",
      "huskylens\n"
     ]
    }
   ],
   "source": [
    "! pinpong libs list"
   ]
  },
  {
   "cell_type": "markdown",
   "metadata": {},
   "source": [
    "3.查看dh11模块的使用方法\n",
    "\n",
    "输入“pinpong libs dht11”，即可查询dh11模块的使用范例。"
   ]
  },
  {
   "cell_type": "code",
   "execution_count": 6,
   "metadata": {},
   "outputs": [
    {
     "name": "stdout",
     "output_type": "stream",
     "text": [
      "\n",
      "[-] 导入方法(How to import?): \n",
      "from pinpong.board import Board,Pin,DHT11\n",
      "\n",
      "[-] API列表(API list) \n",
      "DHT11(board, pin_obj)\n",
      "  @board     使用Board类构造出来的主板\n",
      "  @pin_obj   使用Pin类构造出来的对象, 连接DHT11的引脚\n",
      "temp_c(): 获取温度值，单位为摄氏度\n",
      "humidity(): 相对湿度值，范围0-100\n"
     ]
    }
   ],
   "source": [
    "! pinpong libs dht11"
   ]
  },
  {
   "cell_type": "markdown",
   "metadata": {},
   "source": [
    "4.运行范例代码\n",
    "\n",
    "导入库，并且初始化板子和引脚，DH11温湿度传感器接在D7。"
   ]
  },
  {
   "cell_type": "code",
   "execution_count": 2,
   "metadata": {},
   "outputs": [
    {
     "name": "stdout",
     "output_type": "stream",
     "text": [
      "\n",
      "  __________________________________________\n",
      " |    ____  _       ____                    |\n",
      " |   / __ \\(_)___  / __ \\____  ____  ____ _ |\n",
      " |  / /_/ / / __ \\/ /_/ / __ \\/ __ \\/ __ `/ |\n",
      " | / ____/ / / / / ____/ /_/ / / / / /_/ /  |\n",
      " |/_/   /_/_/ /_/_/    \\____/_/ /_/\\__, /   |\n",
      " |   v0.3.3  Designed by DFRobot  /____/    |\n",
      " |__________________________________________|\n",
      " \n",
      "[01] Python3.6.6 Darwin-20.2.0-x86_64-i386-64bit Board: UNO\n",
      "Automatically selected ->  /dev/cu.usbmodem14101\n",
      "[10] Opening /dev/cu.usbmodem14101\n",
      "[15] Close /dev/cu.usbmodem14101\n",
      "[32] Firmata ID: 2.6\n",
      "[10] Opening /dev/cu.usbmodem14101...\n",
      "[20] Waiting 4 seconds(arduino_wait) for Arduino devices to reset...\n",
      "[22] Arduino compatible device found and connected to /dev/cu.usbmodem14101\n",
      "[30] Retrieving Arduino Firmware ID...\n",
      "[32] Arduino Firmware ID: 2.6 DFRobot firmata\n",
      "[40] Retrieving analog map...\n",
      "[42] Auto-discovery complete. Found 20 Digital Pins and 6 Analog Pins\n",
      "------------------------------\n",
      "All right. PinPong go...\n",
      "------------------------------\n",
      "\n"
     ]
    }
   ],
   "source": [
    "from pinpong.board import Board,Pin,DHT11\n",
    "Board(\"uno\").begin()  # 选择板型(uno、leonardo、xugu)和端口号，不输入端口号则进行自动识别\n",
    "dht11= DHT11(Pin(Pin.D7)) #初始化dh11对象"
   ]
  },
  {
   "cell_type": "markdown",
   "metadata": {},
   "source": [
    "5.读取数据并打印"
   ]
  },
  {
   "cell_type": "code",
   "execution_count": 3,
   "metadata": {},
   "outputs": [
    {
     "name": "stdout",
     "output_type": "stream",
     "text": [
      "dht11 temperature= 16.2  humidity= 84.0\n"
     ]
    }
   ],
   "source": [
    "temp = dht11.temp_c() #读取摄氏温度\n",
    "humi = dht11.humidity() #读取湿度\n",
    "print(\"dht11 temperature=\",temp,\" humidity=\",humi)"
   ]
  },
  {
   "cell_type": "markdown",
   "metadata": {},
   "source": [
    "### 范例：定时读取dht温湿度传感器\n",
    "\n",
    "使用windows或linux电脑连接一块Arduino主控板，dht11连接D6\n",
    "\n",
    "**注：**如果需要运行下面的程序或者关闭窗口，请先点击“服务”，执行“重启 & 清空输出”。"
   ]
  },
  {
   "cell_type": "code",
   "execution_count": null,
   "metadata": {},
   "outputs": [
    {
     "name": "stdout",
     "output_type": "stream",
     "text": [
      "\n",
      "  __________________________________________\n",
      " |    ____  _       ____                    |\n",
      " |   / __ \\(_)___  / __ \\____  ____  ____ _ |\n",
      " |  / /_/ / / __ \\/ /_/ / __ \\/ __ \\/ __ `/ |\n",
      " | / ____/ / / / / ____/ /_/ / / / / /_/ /  |\n",
      " |/_/   /_/_/ /_/_/    \\____/_/ /_/\\__, /   |\n",
      " |   v0.3.3  Designed by DFRobot  /____/    |\n",
      " |__________________________________________|\n",
      " \n",
      "[01] Python3.6.6 Darwin-20.2.0-x86_64-i386-64bit Board: UNO\n",
      "Automatically selected ->  /dev/cu.usbmodem14101\n",
      "[10] Opening /dev/cu.usbmodem14101\n",
      "[15] Close /dev/cu.usbmodem14101\n",
      "[32] Firmata ID: 2.6\n",
      "[10] Opening /dev/cu.usbmodem14101...\n",
      "[20] Waiting 4 seconds(arduino_wait) for Arduino devices to reset...\n",
      "[22] Arduino compatible device found and connected to /dev/cu.usbmodem14101\n",
      "[30] Retrieving Arduino Firmware ID...\n",
      "[32] Arduino Firmware ID: 2.6 DFRobot firmata\n",
      "[40] Retrieving analog map...\n",
      "[42] Auto-discovery complete. Found 20 Digital Pins and 6 Analog Pins\n",
      "------------------------------\n",
      "All right. PinPong go...\n",
      "------------------------------\n",
      "\n",
      "dht11 temperature= 0  humidity= 0\n",
      "dht11 temperature= 0  humidity= 0\n",
      "dht11 temperature= 0  humidity= 0\n",
      "dht11 temperature= 15.8  humidity= 85.0\n",
      "dht11 temperature= 15.8  humidity= 85.0\n",
      "dht11 temperature= 15.9  humidity= 85.0\n",
      "dht11 temperature= 15.9  humidity= 85.0\n",
      "dht11 temperature= 15.9  humidity= 85.0\n",
      "dht11 temperature= 15.9  humidity= 85.0\n",
      "dht11 temperature= 15.9  humidity= 85.0\n",
      "dht11 temperature= 15.9  humidity= 85.0\n",
      "dht11 temperature= 15.9  humidity= 85.0\n",
      "dht11 temperature= 15.9  humidity= 85.0\n",
      "dht11 temperature= 16.0  humidity= 86.0\n",
      "dht11 temperature= 16.0  humidity= 86.0\n",
      "dht11 temperature= 16.0  humidity= 86.0\n",
      "dht11 temperature= 16.0  humidity= 86.0\n",
      "dht11 temperature= 16.0  humidity= 85.0\n",
      "dht11 temperature= 16.0  humidity= 85.0\n",
      "dht11 temperature= 16.1  humidity= 85.0\n",
      "dht11 temperature= 16.1  humidity= 85.0\n"
     ]
    }
   ],
   "source": [
    "import time\n",
    "from pinpong.board import Board,Pin,DHT11\n",
    "\n",
    "Board(\"uno\").begin()\n",
    "dht11 = DHT11(Pin(Pin.D7))\n",
    "\n",
    "while True:\n",
    "  temp = dht11.temp_c() #读取摄氏温度\n",
    "  humi = dht11.humidity() #读取湿度\n",
    "  print(\"dht11 temperature=\",temp,\" humidity=\",humi)\n",
    "  time.sleep(1)"
   ]
  },
  {
   "cell_type": "code",
   "execution_count": null,
   "metadata": {},
   "outputs": [],
   "source": []
  }
 ],
 "metadata": {
  "kernelspec": {
   "display_name": "Python 3",
   "language": "python",
   "name": "python3"
  },
  "language_info": {
   "codemirror_mode": {
    "name": "ipython",
    "version": 3
   },
   "file_extension": ".py",
   "mimetype": "text/x-python",
   "name": "python",
   "nbconvert_exporter": "python",
   "pygments_lexer": "ipython3",
   "version": "3.6.6"
  }
 },
 "nbformat": 4,
 "nbformat_minor": 4
}
