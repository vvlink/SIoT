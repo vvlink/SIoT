{
 "cells": [
  {
   "cell_type": "markdown",
   "metadata": {},
   "source": [
    "# pinpong入门之数字输入"
   ]
  },
  {
   "cell_type": "markdown",
   "metadata": {},
   "source": [
    "    描述：读取Arduino引脚的电平高低状态。\n",
    "    \n",
    "    实现：调用pinpong库Pin类中的read_digital()函数，返回该IO引脚电平值，1代表高电平，0代表低电平。该方法在输入模式有效。"
   ]
  },
  {
   "cell_type": "markdown",
   "metadata": {},
   "source": [
    "### 准备工作\n",
    "\n",
    "Arduino的8号口（即D8）接上一个开关量传感器（常常被称为数字传感器），常见的开关量传感器有按钮、触摸、红外测障等。"
   ]
  },
  {
   "cell_type": "markdown",
   "metadata": {},
   "source": [
    "### 实验步骤\n",
    "1.导入pinpong库"
   ]
  },
  {
   "cell_type": "code",
   "execution_count": 1,
   "metadata": {},
   "outputs": [],
   "source": [
    "from pinpong.board import Board,Pin"
   ]
  },
  {
   "cell_type": "markdown",
   "metadata": {},
   "source": [
    "2.初始化开发板"
   ]
  },
  {
   "cell_type": "code",
   "execution_count": 2,
   "metadata": {},
   "outputs": [
    {
     "name": "stdout",
     "output_type": "stream",
     "text": [
      "\n",
      "  __________________________________________\n",
      " |    ____  _       ____                    |\n",
      " |   / __ \\(_)___  / __ \\____  ____  ____ _ |\n",
      " |  / /_/ / / __ \\/ /_/ / __ \\/ __ \\/ __ `/ |\n",
      " | / ____/ / / / / ____/ /_/ / / / / /_/ /  |\n",
      " |/_/   /_/_/ /_/_/    \\____/_/ /_/\\__, /   |\n",
      " |   v0.3.3  Designed by DFRobot  /____/    |\n",
      " |__________________________________________|\n",
      " \n",
      "[01] Python3.6.6 Darwin-20.2.0-x86_64-i386-64bit Board: UNO\n",
      "Automatically selected ->  /dev/cu.usbmodem14101\n",
      "[10] Opening /dev/cu.usbmodem14101\n",
      "[15] Close /dev/cu.usbmodem14101\n",
      "[32] Firmata ID: 2.6\n",
      "[10] Opening /dev/cu.usbmodem14101...\n",
      "[20] Waiting 4 seconds(arduino_wait) for Arduino devices to reset...\n",
      "[22] Arduino compatible device found and connected to /dev/cu.usbmodem14101\n",
      "[30] Retrieving Arduino Firmware ID...\n",
      "[32] Arduino Firmware ID: 2.6 DFRobot firmata\n",
      "[40] Retrieving analog map...\n",
      "[42] Auto-discovery complete. Found 20 Digital Pins and 6 Analog Pins\n",
      "------------------------------\n",
      "All right. PinPong go...\n",
      "------------------------------\n",
      "\n"
     ]
    },
    {
     "data": {
      "text/plain": [
       "<pinpong.board.Board at 0x7fc779026320>"
      ]
     },
     "execution_count": 2,
     "metadata": {},
     "output_type": "execute_result"
    }
   ],
   "source": [
    "Board(\"uno\").begin()  # 选择板型(uno、leonardo、xugu)和端口号，不输入端口号则进行自动识别"
   ]
  },
  {
   "cell_type": "markdown",
   "metadata": {},
   "source": [
    "3.初始化引脚\n",
    "\n",
    "“Pin.IN”为输入模式"
   ]
  },
  {
   "cell_type": "code",
   "execution_count": 3,
   "metadata": {},
   "outputs": [],
   "source": [
    "btn = Pin(Pin.D8,Pin.IN)"
   ]
  },
  {
   "cell_type": "markdown",
   "metadata": {},
   "source": [
    "4.读取引脚状态"
   ]
  },
  {
   "cell_type": "code",
   "execution_count": 4,
   "metadata": {},
   "outputs": [
    {
     "name": "stdout",
     "output_type": "stream",
     "text": [
      "0\n"
     ]
    }
   ],
   "source": [
    "v = btn.read_digital()\n",
    "print(v)"
   ]
  },
  {
   "cell_type": "markdown",
   "metadata": {},
   "source": [
    "5.继续读取引脚状态\n",
    "\n",
    "改变传感器模块等状态，再读取。"
   ]
  },
  {
   "cell_type": "code",
   "execution_count": null,
   "metadata": {},
   "outputs": [],
   "source": [
    "v = btn.read_digital()\n",
    "print(v)"
   ]
  },
  {
   "cell_type": "markdown",
   "metadata": {},
   "source": [
    "### 范例：定时读取数字传感器\n",
    "\n",
    "定时读取数字传感器的值，读取按钮状态设置给led灯引脚，数字传感器接在8号引脚。\n",
    "\n",
    "**注：**如果需要运行下面的程序或者关闭窗口，请先点击“服务”，执行“重启 & 清空输出”。"
   ]
  },
  {
   "cell_type": "code",
   "execution_count": null,
   "metadata": {},
   "outputs": [],
   "source": [
    "from pinpong.board import Board,Pin\n",
    "Board(\"uno\").begin() \n",
    "import time  # 导入时间模块\n",
    "\n",
    "btn = Pin(Pin.D8, Pin.IN) #引脚初始化为电平输入\n",
    "led = Pin(Pin.D13, Pin.OUT)\n",
    "\n",
    "while True:\n",
    "    v = btn.read_digital()  \n",
    "    print(v)  #终端打印读取的电平状态\n",
    "    led.write_digital(v) \n",
    "    time.sleep(0.1)"
   ]
  },
  {
   "cell_type": "markdown",
   "metadata": {},
   "source": []
  }
 ],
 "metadata": {
  "kernelspec": {
   "display_name": "Python 3",
   "language": "python",
   "name": "python3"
  },
  "language_info": {
   "codemirror_mode": {
    "name": "ipython",
    "version": 3
   },
   "file_extension": ".py",
   "mimetype": "text/x-python",
   "name": "python",
   "nbconvert_exporter": "python",
   "pygments_lexer": "ipython3",
   "version": "3.6.6"
  }
 },
 "nbformat": 4,
 "nbformat_minor": 4
}
