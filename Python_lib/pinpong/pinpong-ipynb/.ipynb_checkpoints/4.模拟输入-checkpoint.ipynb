{
 "cells": [
  {
   "cell_type": "markdown",
   "metadata": {},
   "source": [
    "# 虚谷号GPIO之模拟输入"
   ]
  },
  {
   "cell_type": "markdown",
   "metadata": {},
   "source": [
    "    描述：读取Arduino特定引脚的输入模拟信号。\n",
    "    \n",
    "    实现：调用pinpong库Pin类中的read_analog()函数，返回IO引脚的模拟值,数据范围在0和1023之间。该方法在输入模式有效。虚谷号板载Arduino支持的模拟输入的引脚共有6个，分别为A0-A5。"
   ]
  },
  {
   "cell_type": "markdown",
   "metadata": {},
   "source": [
    "### 准备工作\n",
    "\n",
    "将任意一个模拟传感器模块接在虚谷号的A0口。常见的模拟传感器有旋钮、光线、声音、温度等。"
   ]
  },
  {
   "cell_type": "markdown",
   "metadata": {},
   "source": [
    "### 实验步骤\n",
    "\n",
    "1.导入pinpong库"
   ]
  },
  {
   "cell_type": "code",
   "execution_count": null,
   "metadata": {},
   "outputs": [],
   "source": [
    "from pinpong.board import Board,Pin"
   ]
  },
  {
   "cell_type": "markdown",
   "metadata": {},
   "source": [
    "2.初始化开发板"
   ]
  },
  {
   "cell_type": "code",
   "execution_count": null,
   "metadata": {},
   "outputs": [],
   "source": [
    "Board(\"uno\").begin()  # 选择板型(uno、leonardo、xugu)和端口号，不输入端口号则进行自动识别"
   ]
  },
  {
   "cell_type": "markdown",
   "metadata": {},
   "source": [
    "3.初始化引脚\n",
    "\n",
    "“Pin.ANALOG”为模拟输入模式，“A0-A5”为Arduino的模拟引脚。"
   ]
  },
  {
   "cell_type": "code",
   "execution_count": null,
   "metadata": {},
   "outputs": [],
   "source": [
    "adc0 = Pin(Pin.A0, Pin.ANALOG) #引脚初始化为模拟输入"
   ]
  },
  {
   "cell_type": "markdown",
   "metadata": {},
   "source": [
    "4.读取并打印引脚的电压值。\n",
    "\n",
    "Arduino电压值采用10位量化，范围在0～1023之间。"
   ]
  },
  {
   "cell_type": "code",
   "execution_count": null,
   "metadata": {},
   "outputs": [],
   "source": [
    "v = adc0.read_analog() #读取A0口模拟信号数值\n",
    "print(v)"
   ]
  },
  {
   "cell_type": "markdown",
   "metadata": {},
   "source": [
    "### 范例：定时读取环境光线\n",
    "\n",
    "定时读取虚谷号A0引脚的电压值并打印，A0引脚接模拟光线传感器，用手遮挡光线，观察数据是否在不断变化，总结数据变化的规律。\n",
    "\n",
    "**注：**如果需要运行下面的程序或者关闭窗口，请先点击“服务”，执行“重启 & 清空输出”。"
   ]
  },
  {
   "cell_type": "code",
   "execution_count": null,
   "metadata": {},
   "outputs": [],
   "source": [
    "import time\n",
    "from pinpong.board import Board,Pin\n",
    "Board(\"uno\").begin()\n",
    "adc0 = Pin(Pin.A0, Pin.ANALOG) \n",
    "while True:\n",
    "    v = adc0.read_analog() \n",
    "    print(\"A0=\", v)\n",
    "    time.sleep(0.5) #等待0.5秒"
   ]
  },
  {
   "cell_type": "code",
   "execution_count": null,
   "metadata": {},
   "outputs": [],
   "source": []
  }
 ],
 "metadata": {
  "kernelspec": {
   "display_name": "Python 3",
   "language": "python",
   "name": "python3"
  },
  "language_info": {
   "codemirror_mode": {
    "name": "ipython",
    "version": 3
   },
   "file_extension": ".py",
   "mimetype": "text/x-python",
   "name": "python",
   "nbconvert_exporter": "python",
   "pygments_lexer": "ipython3",
   "version": "3.6.6"
  }
 },
 "nbformat": 4,
 "nbformat_minor": 4
}
