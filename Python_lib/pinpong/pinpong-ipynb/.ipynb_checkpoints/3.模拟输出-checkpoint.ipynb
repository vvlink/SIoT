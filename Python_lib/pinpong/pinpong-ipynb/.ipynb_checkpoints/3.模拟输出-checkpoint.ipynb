{
 "cells": [
  {
   "cell_type": "markdown",
   "metadata": {},
   "source": [
    "# 虚谷号GPIO之模拟输出"
   ]
  },
  {
   "cell_type": "markdown",
   "metadata": {},
   "source": [
    "    描述：向Arduino的特定引脚输出模拟信号。\n",
    "    \n",
    "    实现：调用pinpong库Pin类中的write_analog(value)函数，给引脚设置模拟值。value指要设置的模拟值,数据范围在0和255之间。该方法在输出模式有效。虚谷号板载Arduino支持的模拟输出(PWM方式)的引脚共有6个: 3、5、6、9、10、11。"
   ]
  },
  {
   "cell_type": "markdown",
   "metadata": {},
   "source": [
    "### 准备工作\n",
    "\n",
    "将任意一个支持模拟电压的LED模块接在虚谷号的6号口（即D6）。"
   ]
  },
  {
   "cell_type": "markdown",
   "metadata": {},
   "source": [
    "### 实验步骤\n",
    "\n",
    "1.导入pinpong库"
   ]
  },
  {
   "cell_type": "code",
   "execution_count": 1,
   "metadata": {},
   "outputs": [],
   "source": [
    "from pinpong.board import Board,Pin"
   ]
  },
  {
   "cell_type": "markdown",
   "metadata": {},
   "source": [
    "2.初始化开发板"
   ]
  },
  {
   "cell_type": "code",
   "execution_count": null,
   "metadata": {},
   "outputs": [],
   "source": [
    "Board(\"uno\").begin()  # 选择板型(uno、leonardo、xugu)和端口号，不输入端口号则进行自动识别"
   ]
  },
  {
   "cell_type": "markdown",
   "metadata": {},
   "source": [
    "3.初始化引脚\n",
    "\n",
    "“Pin.PWM”为PWM输出模式，仅3、5、6、9、10、11支持。"
   ]
  },
  {
   "cell_type": "code",
   "execution_count": 3,
   "metadata": {},
   "outputs": [],
   "source": [
    "p = Pin(Pin.D6, Pin.PWM)"
   ]
  },
  {
   "cell_type": "markdown",
   "metadata": {},
   "source": [
    "4.让引脚输出PWM信号\n",
    "\n",
    "PWM数值在0-255之间。“write_analog(128)”表示输出128，按照5V计算，输出的是2.5V。"
   ]
  },
  {
   "cell_type": "code",
   "execution_count": 7,
   "metadata": {},
   "outputs": [],
   "source": [
    "p.write_analog(128)"
   ]
  },
  {
   "cell_type": "markdown",
   "metadata": {},
   "source": [
    "### 范例：一个简单的呼吸灯\n",
    "\n",
    "用PWM方式控制LED模块，接在虚谷号的10号引脚上。\n",
    "\n",
    "写一个循环语句，控制LED的明暗交替变化，看看能不能实现呼吸灯的效果。"
   ]
  },
  {
   "cell_type": "code",
   "execution_count": null,
   "metadata": {},
   "outputs": [],
   "source": [
    "import time\n",
    "from pinpong.board import Board,Pin\n",
    "Board(\"xugu\").begin()\n",
    "p = Pin(Pin.D6, Pin.PWM) #初始化引脚为PWM模式 模拟输出方法2\n",
    "while True:\n",
    "    for i in range(255):\n",
    "        print(i)\n",
    "        p.write_analog(i) #PWM输出 方法2\n",
    "        time.sleep(0.05)\n",
    "    for i in range(255):\n",
    "        print(i)\n",
    "        p.write_analog(255-i) #PWM输出 方法2\n",
    "        time.sleep(0.05)"
   ]
  },
  {
   "cell_type": "markdown",
   "metadata": {},
   "source": [
    "**注：**运行到这里，如果不需要运行程序或者关闭窗口，请先点击上方的黑色正方形中断服务。如果打开笔记的时候，程序已经运行，需先选择上方“服务”->再选择“重启 & 清空输出”，便可重新运行程序。"
   ]
  }
 ],
 "metadata": {
  "kernelspec": {
   "display_name": "Python 3",
   "language": "python",
   "name": "python3"
  },
  "language_info": {
   "codemirror_mode": {
    "name": "ipython",
    "version": 3
   },
   "file_extension": ".py",
   "mimetype": "text/x-python",
   "name": "python",
   "nbconvert_exporter": "python",
   "pygments_lexer": "ipython3",
   "version": "3.6.6"
  }
 },
 "nbformat": 4,
 "nbformat_minor": 4
}
