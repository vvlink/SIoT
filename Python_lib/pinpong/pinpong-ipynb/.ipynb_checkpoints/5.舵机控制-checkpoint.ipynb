{
 "cells": [
  {
   "cell_type": "markdown",
   "metadata": {},
   "source": [
    "# 虚谷号GPIO之舵机控制"
   ]
  },
  {
   "cell_type": "markdown",
   "metadata": {},
   "source": [
    "    描述：控制舵机旋转的角度。\n",
    "    \n",
    "    实现：调用pinpong库中的Servo(pin_num)函数，pin_num为引脚标号,可以直接传入虚谷板上的引脚编号,例如 D3 或者 A5,也可以直接传入13或者 19 这样的数字。还需要调用Servo.write_angle(value)函数，让舵机转动到指定角度,Value 指角度。每种舵机的最大转动角度不一样,需要参考舵机说明书。"
   ]
  },
  {
   "cell_type": "markdown",
   "metadata": {},
   "source": [
    "### 范例：控制舵机旋转\n",
    "\n",
    "使用pinpong库中Servo类，控制D4引脚上的舵机旋转。"
   ]
  },
  {
   "cell_type": "code",
   "execution_count": null,
   "metadata": {},
   "outputs": [],
   "source": [
    "import time\n",
    "from pinpong.board import Board,Pin,Servo #导入Servo库\n",
    "Board(\"xugu\").begin()               #初始化，选择板型(uno、leonardo、xugu)和端口号，不输入端口号则进行自动识别"
   ]
  },
  {
   "cell_type": "markdown",
   "metadata": {},
   "source": [
    "选择控制的引脚初始化并连接到舵机"
   ]
  },
  {
   "cell_type": "code",
   "execution_count": null,
   "metadata": {},
   "outputs": [],
   "source": [
    "s1 = Servo(Pin(Pin.D4)) #将Pin传入Servo中初始化舵机引脚"
   ]
  },
  {
   "cell_type": "markdown",
   "metadata": {},
   "source": [
    "设置值为150,舵机旋转150°"
   ]
  },
  {
   "cell_type": "code",
   "execution_count": null,
   "metadata": {},
   "outputs": [],
   "source": [
    "#s1.angle(150) #控制舵机转到150度位置 方法1\n",
    "s1.write_angle(150)  #控制舵机转到150度位置 方法2"
   ]
  },
  {
   "cell_type": "markdown",
   "metadata": {},
   "source": [
    "**注：**运行到这里，如果不需要运行程序或者关闭窗口，请先点击上方的黑色正方形中断服务。如果打开笔记的时候，程序已经运行，需先选择上方“服务”->再选择“重启 & 清空输出”，便可重新运行程序。"
   ]
  }
 ],
 "metadata": {
  "kernelspec": {
   "display_name": "Python 3",
   "language": "python",
   "name": "python3"
  },
  "language_info": {
   "codemirror_mode": {
    "name": "ipython",
    "version": 3
   },
   "file_extension": ".py",
   "mimetype": "text/x-python",
   "name": "python",
   "nbconvert_exporter": "python",
   "pygments_lexer": "ipython3",
   "version": "3.8.0"
  }
 },
 "nbformat": 4,
 "nbformat_minor": 4
}
