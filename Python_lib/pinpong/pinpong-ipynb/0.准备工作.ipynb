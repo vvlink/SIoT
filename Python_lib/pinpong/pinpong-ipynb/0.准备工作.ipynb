{
 "cells": [
  {
   "cell_type": "markdown",
   "metadata": {},
   "source": [
    "# pinpong入门之准备工作"
   ]
  },
  {
   "cell_type": "markdown",
   "metadata": {},
   "source": [
    "## 1.pinpong简介\n",
    "\n",
    "pinpong是一个专用于开源硬件控制的Python库。借助于pinpong库，直接用Python代码就能给各种常见的开源硬件编程。pinpong库基于Firmata协议开发，其原理是给开源硬件烧录一个特定的固件，使开源硬件可以通过串口与电脑通讯，执行各种命令。\n",
    "\n",
    "pinpong库的名称由“Pin”和“Pong”组成，“Pin”指引脚，“pinpong”为“乒乓球”的谐音，指信号的往复。目前pinpong库支持Arduino、掌控板、micro:bit等开源硬件，同时支持虚谷号、树莓派和拿铁熊猫等。\n",
    "\n",
    "pinpong库的设计，主要用于物联网和人工智能，用于具备传感和控制功能的信息系统开发。在pinpong库的支持下，开发者在开发过程中不用被繁杂的硬件型号束缚，而将重点转移到软件的实现。哪怕程序编写初期用Arduino开发，部署时改成了掌控板，只要修改一下硬件的参数就能正常运行，实现了“一次编写处处运行”。"
   ]
  },
  {
   "cell_type": "markdown",
   "metadata": {},
   "source": [
    "## 2.代码说明\n",
    "\n",
    "为方便初学者入门，本课程的所有代码以普通电脑外接Arduino uno来完成，推荐使用虚谷号来部署创客作品。"
   ]
  },
  {
   "cell_type": "markdown",
   "metadata": {},
   "source": [
    "## 3.准备工作\n",
    "\n",
    "### 1）编程软件\n",
    "- Python 3.x\n",
    "- jupyter（建议直接用mPython，mPython自带了Python和jupyter）\n",
    "- pinpong 0.3.4以上（安装命令：pip install pinpong，推荐使用豆瓣源） "
   ]
  },
  {
   "cell_type": "code",
   "execution_count": null,
   "metadata": {},
   "outputs": [],
   "source": [
    "!pip install pinpong -i https://pypi.tuna.tsinghua.edu.cn/simple"
   ]
  },
  {
   "cell_type": "markdown",
   "metadata": {},
   "source": [
    "### 2）开源硬件\n",
    "- 选择1：普通电脑、Arduino uno\n",
    "- 选择2：虚谷号（代码中板子型号选择：uno或者xugu）\n",
    "- 选择3：拿铁熊猫（代码中板子型号选择：leonardo）\n",
    "- 选择4：普通电脑、掌控板（代码中板子型号选择：handpy）\n",
    "\n",
    "### 3）拓展模块\n",
    "- 按钮传感器 * 1\n",
    "- 光线传感器 * 1\n",
    "- LED模块 * 1\n",
    "- 9克舵机 * 1"
   ]
  },
  {
   "cell_type": "code",
   "execution_count": null,
   "metadata": {},
   "outputs": [],
   "source": []
  }
 ],
 "metadata": {
  "kernelspec": {
   "display_name": "Python 3",
   "language": "python",
   "name": "python3"
  },
  "language_info": {
   "codemirror_mode": {
    "name": "ipython",
    "version": 3
   },
   "file_extension": ".py",
   "mimetype": "text/x-python",
   "name": "python",
   "nbconvert_exporter": "python",
   "pygments_lexer": "ipython3",
   "version": "3.6.6"
  }
 },
 "nbformat": 4,
 "nbformat_minor": 4
}
