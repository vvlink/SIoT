{
 "cells": [
  {
   "cell_type": "markdown",
   "metadata": {},
   "source": [
    "# 虚谷物联之数据绘图"
   ]
  },
  {
   "cell_type": "markdown",
   "metadata": {},
   "source": [
    "## 1. 范例说明"
   ]
  },
  {
   "cell_type": "markdown",
   "metadata": {},
   "source": [
    "数据是物联网的核心。无论将物联网技术用于哪个方面，数据分析永远是重要的一个环节。物联网数据分为复合数据和单一数据。复合数据指即彼此关联的数据，如环境数据中温度和湿度，这需要用一个消息主题（topicID）进行存储。我们普通使用的都是单一数据，即一个topicID中记录一组数据。\n",
    "\n",
    "虽然SIoT的Web管理页面中本来就能呈现这种单一数据，用掌控板或者Mind+来绘制图表，都比较容易。该案例演示如何用Python代码实现动态绘图，借助matplotlib库，可以画出很多不同样式的图表。\n",
    "\n",
    "1）数据类型：单一数据。\n",
    "\n",
    "2）涉及资源：siot服务器，siot库、matplotlib库。\n",
    "    \n",
    "3）文档写作：谢作如\n",
    "\n",
    "4）参考网站：https://github.com/vvlink/SIoT\n",
    "\n",
    "5）其他说明：本作品范例可以移植到其他平台。因为虚谷号已经默认安装了siot库，也预装了siot服务器，使用虚谷号的用户可以省略这一步。"
   ]
  },
  {
   "cell_type": "markdown",
   "metadata": {},
   "source": [
    "## 2. 代码编写"
   ]
  },
  {
   "cell_type": "markdown",
   "metadata": {},
   "source": [
    "### 2.1 数据采集端\n",
    "\n",
    "数据采集端指利用掌控板、Arduino或者虚谷号采集温湿度传感器的数据，发送到SIoT服务器。\n",
    "\n",
    "TopicID名称为：xzr/100\n",
    "\n",
    "传感器数据采集的方案很多，仅硬件就有很多种，代码略。具体请参考：https://github.com/vvlink/siot"
   ]
  },
  {
   "cell_type": "markdown",
   "metadata": {},
   "source": [
    "### 2.2 数据呈现端\n",
    "\n",
    "第一步：导入库\n",
    "\n",
    "siot库是对mqtt库对二次封装，让代码更加简洁。"
   ]
  },
  {
   "cell_type": "code",
   "execution_count": 1,
   "metadata": {},
   "outputs": [],
   "source": [
    "import siot"
   ]
  },
  {
   "cell_type": "markdown",
   "metadata": {},
   "source": [
    "第二步：配置SIOT服务器"
   ]
  },
  {
   "cell_type": "code",
   "execution_count": 2,
   "metadata": {},
   "outputs": [],
   "source": [
    "SERVER = \"127.0.0.1\"        #MQTT服务器IP\n",
    "CLIENT_ID = \"\"              #在SIoT上，CLIENT_ID可以留空\n",
    "IOT_pubTopic  = 'xzr/100'   #“topic”为“项目名称/设备名称”\n",
    "IOT_UserName ='scope'        #用户名\n",
    "IOT_PassWord ='scope'     #密码"
   ]
  },
  {
   "cell_type": "markdown",
   "metadata": {},
   "source": [
    "说明：虚谷号可以用127.0.0.1表示本机，用户名和密码统一使用“scope”，topicid自己定义，这里用的是“xzr/100”，表示项目名称为“xzr”，设备名称为“100”。"
   ]
  },
  {
   "cell_type": "markdown",
   "metadata": {},
   "source": [
    "第三步：连接SIOT服务器"
   ]
  },
  {
   "cell_type": "code",
   "execution_count": 3,
   "metadata": {},
   "outputs": [],
   "source": [
    "siot.init(CLIENT_ID, SERVER, user=IOT_UserName, password=IOT_PassWord)\n",
    "siot.connect()"
   ]
  },
  {
   "cell_type": "markdown",
   "metadata": {},
   "source": [
    "第四步：设置绘图函数\n",
    "\n",
    "因为在jupyter上运行，为了能够动态显示图表，特意加了“display.clear_output(wait=True)”，如果直接运行.py文件，请删除如下几句：\n",
    "\n",
    "    %matplotlib inline\n",
    "    from IPython import display\n",
    "    display.clear_output(wait=True)\n",
    "\n",
    "修改“plt.plot”中的参数'r--'，就可以得到不同颜色和类型的线条。其中第一个字母表示颜色，如“r”为红色，“b”为蓝色等。后面的字符表示线型。如：\n",
    "\n",
    "    - 'r--'：红色的虚线\n",
    "    - 'bs'：蓝色的方块\n",
    "    - 'g^'：绿色的三角形\n",
    "    - ……"
   ]
  },
  {
   "cell_type": "code",
   "execution_count": 4,
   "metadata": {},
   "outputs": [],
   "source": [
    "import matplotlib.pyplot as plt\n",
    "%matplotlib inline\n",
    "from IPython import display\n",
    "x,p1=[],[]\n",
    "i=0\n",
    "w=20 #设置数据的长度\n",
    "def draw(v1):\n",
    "    global x,i,p1\n",
    "    i=i+1\n",
    "    x.append(i)\n",
    "    p1.append(v1)\n",
    "    # 当数据太多了开始删除，避免图表越来越小\n",
    "    if len(x)>w:\n",
    "        x.pop(0)\n",
    "        p1.pop(0)\n",
    "    fig = plt.figure()\n",
    "    plt.plot(x,p1,'r--')\n",
    "    display.clear_output(wait=True)\n",
    "    plt.show()"
   ]
  },
  {
   "cell_type": "markdown",
   "metadata": {},
   "source": [
    "第五步：订阅消息\n",
    "\n",
    "“siot.subscribe(IOT_pubTopic, sub_cb)”中，“sub_cb”是回调函数名称。当“siot”对象收到一次消息，就会执行一次回调函数。在回调函数中调用绘图函数。\n",
    "\n",
    "**需要注意的是，回调函数中如果存在代码错误，Python是不会输出的。这对代码调试带来了一定的难度。**"
   ]
  },
  {
   "cell_type": "code",
   "execution_count": 5,
   "metadata": {},
   "outputs": [
    {
     "data": {
      "image/png": "[encoded data removed]",
      "text/plain": [
       "<Figure size 432x288 with 1 Axes>"
      ]
     },
     "metadata": {
      "needs_background": "light"
     },
     "output_type": "display_data"
    }
   ],
   "source": [
    "def sub_cb(client, userdata, msg):\n",
    "    print(\"\\nTopic:\" + str(msg.topic) + \" Message:\" + str(msg.payload))\n",
    "    # msg.payload是bytes类型，要转换\n",
    "    s=float(msg.payload)\n",
    "    draw(s)\n",
    "\n",
    "siot.subscribe(IOT_pubTopic, sub_cb)\n",
    "siot.loop()"
   ]
  },
  {
   "cell_type": "markdown",
   "metadata": {},
   "source": [
    "接下来，我们就能够看到动态刷新的数据了。\n",
    "\n",
    "**注：重新运行程序的时候，需先选择上方“服务”->再选择“重启 & 清空输出”。**"
   ]
  },
  {
   "cell_type": "code",
   "execution_count": null,
   "metadata": {},
   "outputs": [],
   "source": []
  }
 ],
 "metadata": {
  "kernelspec": {
   "display_name": "Python 3",
   "language": "python",
   "name": "python3"
  },
  "language_info": {
   "codemirror_mode": {
    "name": "ipython",
    "version": 3
   },
   "file_extension": ".py",
   "mimetype": "text/x-python",
   "name": "python",
   "nbconvert_exporter": "python",
   "pygments_lexer": "ipython3",
   "version": "3.5.2"
  }
 },
 "nbformat": 4,
 "nbformat_minor": 2
}
