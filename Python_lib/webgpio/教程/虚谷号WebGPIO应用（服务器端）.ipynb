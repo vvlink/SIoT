{
 "cells": [
  {
   "cell_type": "markdown",
   "metadata": {},
   "source": [
    "# 虚谷号WebGPIO应用（服务器端） \n",
    "\n",
    "虚谷号和手机（App inventor）如何互动控制？\n",
    "\n",
    "虚谷号和掌控板如何互动控制？\n",
    "\n",
    "为了让虚谷号和其他开源硬件、编程语言快速互动，虚谷号的WebGPIO应运而生。简单的说，只要在虚谷号上运行一个python文件，就可以用WebAPI的形式来与虚谷号互动，可以获取虚谷号板载Arduino的所有引脚的电平，也可以控制所有引脚。"
   ]
  },
  {
   "cell_type": "markdown",
   "metadata": {},
   "source": [
    "## 运行服务器端代码\n",
    "\n",
    "要在虚谷号上运行下面的代码。也可以将“webgpio.py”文件更名为“main.py”，复制到vvBoard的Python目录，只要一开机，虚谷号就会执行。\n",
    "\n",
    "注意：\n",
    "    - 如果在jupyter上运行代码，重新启动时要在“服务”中选择“重启 & 清空输出”，再运行。\n",
    "    - 看到“Running on ……”的标识出现，说明服务启动正常。"
   ]
  },
  {
   "cell_type": "code",
   "execution_count": null,
   "metadata": {
    "scrolled": true
   },
   "outputs": [
    {
     "name": "stdout",
     "output_type": "stream",
     "text": [
      " * Serving Flask app \"__main__\" (lazy loading)\n",
      " * Environment: production\n",
      "   WARNING: Do not use the development server in a production environment.\n",
      "   Use a production WSGI server instead.\n",
      " * Debug mode: off\n"
     ]
    },
    {
     "name": "stderr",
     "output_type": "stream",
     "text": [
      " * Running on http://192.168.3.42:1024/ (Press CTRL+C to quit)\n"
     ]
    },
    {
     "name": "stdout",
     "output_type": "stream",
     "text": [
      "not found firmata protocol, burn it.\n",
      "burn complete\n",
      "\n",
      "pymata_aio Version 2.28\tCopyright (c) 2015-2018 Alan Yorinks All rights reserved.\n",
      "\n",
      "Using COM Port:/dev/ttyS1\n",
      "\n",
      "Initializing Arduino - Please wait... \n",
      "Arduino Firmware ID: 2.5 StandardFirmata.ino\n",
      "Auto-discovery complete. Found 20 Digital Pins and 6 Analog Pins\n",
      "\n",
      "\n"
     ]
    },
    {
     "name": "stderr",
     "output_type": "stream",
     "text": [
      "192.168.3.14 - - [28/Feb/2020 17:33:50] \"\u001b[37mGET /help/ HTTP/1.1\u001b[0m\" 200 -\n"
     ]
    },
    {
     "name": "stdout",
     "output_type": "stream",
     "text": [
      "pin =  A0\n"
     ]
    },
    {
     "name": "stderr",
     "output_type": "stream",
     "text": [
      "192.168.3.14 - - [28/Feb/2020 17:33:53] \"\u001b[37mGET /?pin=A0 HTTP/1.1\u001b[0m\" 200 -\n"
     ]
    },
    {
     "name": "stdout",
     "output_type": "stream",
     "text": [
      "pin =  D4\n"
     ]
    },
    {
     "name": "stderr",
     "output_type": "stream",
     "text": [
      "192.168.3.14 - - [28/Feb/2020 17:34:01] \"\u001b[37mGET /?pin=d4 HTTP/1.1\u001b[0m\" 200 -\n"
     ]
    },
    {
     "name": "stdout",
     "output_type": "stream",
     "text": [
      "pin =  A2\n"
     ]
    },
    {
     "name": "stderr",
     "output_type": "stream",
     "text": [
      "192.168.3.14 - - [28/Feb/2020 17:34:13] \"\u001b[37mGET /?pin=a2 HTTP/1.1\u001b[0m\" 200 -\n"
     ]
    }
   ],
   "source": [
    "#!/usr/bin/env python3\n",
    "# -*- coding: utf-8 -*-\n",
    "\"\"\"\n",
    "@Description: WebGPIO For vvBoard\n",
    "@author: xiezuoru,james,yyp\n",
    "@version: 1.1\n",
    "@Date:2020.2.21\n",
    "@Link: https://github.com/vvlink/vvBoard-app/tree/master/webgpio\n",
    "\"\"\"\n",
    "\n",
    "import threading\n",
    "from flask import Flask\n",
    "from flask import request\n",
    "import time\n",
    "import json\n",
    "import socket\n",
    "\n",
    "app = Flask(__name__)\n",
    "ret = None\n",
    "value = None\n",
    "pin = None\n",
    "types = None\n",
    "\n",
    "pin_D_list=['D2','D3','D4','D5','D6','D7','D8','D9','D10','D11','D12','D13']\n",
    "pin_A_list=['A0','A1','A2','A3','A4','A5']\n",
    "type_D_list=['digital','d','1']\n",
    "type_A_list=['analog','a','2']\n",
    "type_S_list=['servo','s','3']\n",
    "\n",
    "@app.route('/',methods=[\"POST\",\"GET\"])\n",
    "def web_gpio():\n",
    "    if (request.method == 'GET'):\n",
    "        return web_gpio_get(request)\n",
    "    elif (request.method == 'POST'):\n",
    "        return web_gpio_post(request)\n",
    "\n",
    "def web_gpio_get(request):\n",
    "    global ret,pin\n",
    "    pin=request.values.get('pin')\n",
    "    if not(pin):\n",
    "        try:\n",
    "            pin=request.json.get('pin')\n",
    "        except Exception:\n",
    "            data = {\"pin\":666,\"error_code\":0, \"msg\":re_html}\n",
    "            return jsondumps(data)\n",
    "    pin=str.upper(pin)\n",
    "    print(\"pin = \",pin) \n",
    "    if not (pin in pin_D_list or pin in pin_A_list):\n",
    "        data = {\"pin\":pin,\"error_code\":1, \"msg\":\"error,invalid Pin\"}\n",
    "        return jsondumps(data)\n",
    "    \n",
    "    if pin in pin_D_list:\n",
    "        ret = 0\n",
    "        time.sleep(0.5)\n",
    "        data = {\"pin\":pin,\"error_code\":0,\"msg\":str(value)}\n",
    "        return jsondumps(data)\n",
    "    if pin in pin_A_list:\n",
    "        ret = 1\n",
    "        time.sleep(0.5)\n",
    "        data = {\"pin\":pin,\"error_code\":0,\"msg\":str(value)}\n",
    "        return jsondumps(data)\n",
    "        \n",
    "def web_gpio_post(request):\n",
    "    global types,pin,value\n",
    "    pin=request.values.get('pin')\n",
    "    types=request.values.get(\"type\")\n",
    "    value=request.values.get(\"value\")\n",
    "    if not(pin):\n",
    "        try:\n",
    "            pin=request.json.get('pin')\n",
    "            types=request.json.get('type')\n",
    "            value=request.json.get('value')\n",
    "        except Exception:\n",
    "            data = {\"pin\":666,\"error_code\":0, \"msg\":re_html}\n",
    "            return jsondumps(data)\n",
    "    if not(pin) or not(types) or not(value) :\n",
    "        data = {\"pin\":pin,\"error_code\":1,\"msg\":\"缺少必要参数\"}\n",
    "        return jsondumps(data)\n",
    "    pin=str.upper(str(pin))\n",
    "    types=str.lower(str(types))                      \n",
    "    if not (pin in pin_D_list or pin in pin_A_list):\n",
    "        data = {\"pin\":pin,\"error_code\":1,\"msg\":\"error,invalid Pin\"}\n",
    "        return jsondumps(data)\n",
    "    try:\n",
    "        value=int(value)\n",
    "    except Exception:\n",
    "        data = {\"pin\":pin,\"error_code\":1,\"msg\":\"error,Value is wrong\"}\n",
    "        return jsondumps(data)\n",
    "    if not (types in type_D_list or types in type_A_list or types in type_S_list):\n",
    "        data = {\"pin\":pin,\"error_code\":1,\"msg\":\"error,Type is wrong\"}\n",
    "        return jsondumps(data)\n",
    "    data = {\"pin\":pin,\"error_code\":0,\"msg\":\"success,set \"+pin+\" to \"+str(value)+\" with \"+types+\" mode\"} \n",
    "    return jsondumps(data)\n",
    "\n",
    "@app.route('/help/',methods=[\"POST\",\"GET\"])\n",
    "def gpiohelp():\n",
    "    helphtml='''<html><head><meta http-equiv=\"Content-Type\" content=\"text/html; charset=UTF-8\">\n",
    "            <title>WebGPIO for vvboard</title>\n",
    "            <style>.c{font-size:12px;}</style></head>\n",
    "          <body class=\"c\"><div class=\"c\"><b>远程感知 -->> </b></div>\n",
    "        <form action=\"/\" method=\"get\" enctype=\"application/x-www-form-urlencoded\" target=\"result\">\n",
    "            <label for=\"tag\" class=\"c\">引脚</label><input type=\"text\" name=\"pin\" value=\"A0\" class=\"c\">（如D2-D13，A0-A5）<br>\n",
    "            <input type=\"submit\" value=\" 发送读取命令 \" class=\"c\">\n",
    "        </form>\n",
    "        <div class=\"c\"><b>远程控制 -->> </b></div>\n",
    "        <form action=\"/\" method=\"post\" enctype=\"application/x-www-form-urlencoded\" target=\"result\">\n",
    "            <label for=\"pin\" class=\"c\">引脚编号</label><input type=\"text\" name=\"pin\" value=\"D13\" class=\"c\">（如D2-D13）<br>\n",
    "            <label for=\"type\" class=\"c\">控制类型</label><input type=\"text\" name=\"type\" value=\"1\" class=\"c\">（可以输入1、2、3，分别指：digital、analog和servo三种）<br>\n",
    "            <label for=\"value\" class=\"c\">设置数值</label><input type=\"text\" name=\"value\" value=\"1\" class=\"c\">\n",
    "            <input type=\"submit\" value=\" 发送控制命令 \" class=\"c\">\n",
    "        </form>\n",
    "        <div class=\"c\"><a href=\"https://github.com/vvlink/vvBoard-app/tree/master/webgpio\" target=\"_blank\">点击这里得到详细介绍</a></div>\n",
    "        <div class=\"c\"><b>反馈显示 -->> </b></div>\n",
    "        <div class=\"c\">\n",
    "            <iframe name=\"result\" frameborder=\"0\" scrolling=\"no\" class=\"c\" src=\"\"></iframe>\n",
    "        </div></body></html>'''\n",
    "    return helphtml\n",
    "\n",
    "def xugu():\n",
    "    global value,ret,types\n",
    "    while True:\n",
    "        if ret == 0:    \n",
    "            xugu_pin=Pin(pin,Pin.IN)\n",
    "            value=xugu_pin.read_digital()\n",
    "            ret=None\n",
    "        if ret == 1:\n",
    "            xugu_pin=Pin(pin,Pin.ANALOG)\n",
    "            value=xugu_pin.read_analog()\n",
    "            ret=None\n",
    "        if types in type_D_list:\n",
    "            xugu_pin=Pin(pin,Pin.OUT)\n",
    "            if value == 0:\n",
    "                xugu_pin.write_digital(value)\n",
    "            else:\n",
    "                value = 1\n",
    "                xugu_pin.write_digital(value)\n",
    "            types=None\n",
    "        if types in type_A_list:\n",
    "            xugu_pin=Pin(pin,Pin.OUT)\n",
    "            xugu_pin.write_analog(value)\n",
    "            types=None\n",
    "        if types in type_S_list:\n",
    "            xugu_servo=Servo(pin)\n",
    "            xugu_servo.write_angle(value)\n",
    "            types=None\n",
    "        \n",
    "\n",
    "def jsondumps(data):        \n",
    "    return json.dumps(data,indent=4,ensure_ascii=False,sort_keys=True)\n",
    "def get_host_ip():\n",
    "    try:\n",
    "        s = socket.socket(socket.AF_INET, socket.SOCK_DGRAM)\n",
    "        s.connect(('8.8.8.8', 80))\n",
    "        ip = s.getsockname()[0]\n",
    "    finally:\n",
    "        s.close()\n",
    "    return ip\n",
    "                \n",
    "def run():\n",
    "    app.run(host=ip,port=1024,debug=False)   \n",
    "\n",
    "ip=get_host_ip()\n",
    "re_html='访问“http://'+ip +':1024/help/”得到更多帮助'\n",
    "t=threading.Thread(target=run)\n",
    "t.start()\n",
    "\n",
    "#启动gpio的服务监视\n",
    "from xugu import Pin\n",
    "from xugu import Servo\n",
    "xugu()"
   ]
  },
  {
   "attachments": {},
   "cell_type": "markdown",
   "metadata": {},
   "source": [
    "接下来就开始自由控制虚谷号吧。访问网址下面的“help”目录可以得到帮助。如http://192.168.3.42:1024/help/"
   ]
  },
  {
   "cell_type": "code",
   "execution_count": null,
   "metadata": {},
   "outputs": [],
   "source": []
  }
 ],
 "metadata": {
  "kernelspec": {
   "display_name": "Python 3",
   "language": "python",
   "name": "python3"
  },
  "language_info": {
   "codemirror_mode": {
    "name": "ipython",
    "version": 3
   },
   "file_extension": ".py",
   "mimetype": "text/x-python",
   "name": "python",
   "nbconvert_exporter": "python",
   "pygments_lexer": "ipython3",
   "version": "3.5.2"
  }
 },
 "nbformat": 4,
 "nbformat_minor": 2
}
