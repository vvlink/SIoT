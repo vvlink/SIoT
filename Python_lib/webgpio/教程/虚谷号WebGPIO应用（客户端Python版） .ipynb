{
 "cells": [
  {
   "cell_type": "markdown",
   "metadata": {},
   "source": [
    "# 虚谷号WebGPIO应用（客户端Python版）\n",
    "\n",
    "虚谷号和手机（App inventor）如何互动控制？\n",
    "\n",
    "虚谷号和掌控板如何互动控制？\n",
    "\n",
    "为了让虚谷号和其他开源硬件、编程语言快速互动，虚谷号的WebGPIO应运而生。简单的说，只要在虚谷号上运行一个python文件，就可以用WebAPI的形式来与虚谷号互动，可以获取虚谷号板载Arduino的所有引脚的电平，也可以控制所有引脚。"
   ]
  },
  {
   "cell_type": "markdown",
   "metadata": {},
   "source": [
    "## 1.接口介绍\n",
    "\n",
    "要在虚谷号上运行“webgpio.py”。也可以将“webgpio.py”文件更名为“main.py”，复制到vvBoard的Python目录，只要一开机，虚谷号就会执行。\n",
    "\n",
    "下载地址：https://github.com/vvlink/vvBoard-docs/tree/master/webgpio\n",
    "\n",
    "WebAPI地址：\n",
    "\n",
    "http://[虚谷号ip]:1024/\n",
    "\n",
    "注：下面假设虚谷号的IP地址为：192.168.1.101\n",
    "\n",
    "### 1.1 获取引脚状态\n",
    "\n",
    "method方式:GET\n",
    "\n",
    "参数示例： { pin:\"D2\" }\n",
    "\n",
    "url范例：http://192.168.1.101:1024/?pin=D2\n",
    "\n",
    "信息返回：\n",
    "\n",
    "当pin为D0--D13时，读取数字引脚的数字值，0为低电平，1为高电平。\n",
    "\n",
    "{ \"pin\":\"D1\", \"error_code\":0, \"msg\":1 }\n",
    "\n",
    "当pin为A0--A5时，读取模拟引脚的模拟值，0-255之间。\n",
    "\n",
    "{ \"pin\":\"A0\", \"error_code\":0, \"msg\":255 }\n",
    "\n",
    "### 1.2. 控制引脚电平\n",
    "\n",
    "method方式: POST\n",
    "\n",
    "参数示例：\n",
    "\n",
    "{ pin:\"D1\" value:255 type:\"digital\" }\n",
    "\n",
    "注：Digital、Analog、Servo等词语不分大小写，也可以用“1、2、3”等数字来代替。\n",
    "\n",
    " - 当type为digital时，设置引脚的电平值为value的值，0表示LOW，非0表示HIGH；\n",
    " - 当type为analog时，设置引脚的PWM值为value的值，即0-255之间；\n",
    " - 当type为servo时，设置引脚上舵机的转动角度为value的值，即0-180之间。\n",
    "\n",
    "\n",
    "返回参数：\n",
    "\n",
    "{ \"pin\":\"D2\", \"error_code\":0, \"msg\":\"success,set [pin] to [value] with [types] mode\" }\n",
    "\n",
    "当pin不在D0--D13，A0--A5之间时：\n",
    "\n",
    "{ \"pin\":\"D2\", \"error_code\":1 \"msg\":\"error,invalid Pin\" }\n",
    "\n",
    "当value不能转换整数时：\n",
    "\n",
    "{ \"pin\":\"D2\", \"error_code\":1, \"msg\":\"error,Value is wrong\" }\n",
    "\n",
    "当type不正确时：\n",
    "\n",
    "{ \"pin\":\"D2\", \"error_code\":1, \"msg\":\"error,Type is wrong\" }"
   ]
  },
  {
   "cell_type": "markdown",
   "metadata": {},
   "source": [
    "## 2. 客户端代码范例（Python）\n",
    "\n",
    "虽然通过任何一个能够发送Http请求的工具，包括浏览器、Word、掌控板、手机等，都可以和虚谷号互动。接下来选择Python语言写一个Demo代码。Python借助Requests库来发送Http请求，是非常方便的。参数传递方面，同时支持params和data两种模式。"
   ]
  },
  {
   "cell_type": "markdown",
   "metadata": {},
   "source": [
    "### 2.1.调用POST方法，对虚谷号的引脚进行控制\n",
    "\n",
    "在该案例中可以修改的参数有:\n",
    "\n",
    "    - url:设置成虚谷号的IP地址\n",
    "    - pin:对应的引脚 A0-A5，D0-D13 \n",
    "    - value:对应的数值\n",
    "    - type:控制的类型可以是1，2，3，分别代表“digital”、“analog”、“servo”\n",
    "    \n",
    "当设置D13号引脚的电平为1，该引脚对应的LED就会亮起。"
   ]
  },
  {
   "cell_type": "code",
   "execution_count": 1,
   "metadata": {},
   "outputs": [
    {
     "name": "stdout",
     "output_type": "stream",
     "text": [
      "成功发送控制命令:success,set D13 to 1 with 1 mode\n",
      "返回的信息为：\n",
      "{\n",
      "    \"error_code\": 0,\n",
      "    \"msg\": \"success,set D13 to 1 with 1 mode\",\n",
      "    \"pin\": \"D13\"\n",
      "}\n"
     ]
    }
   ],
   "source": [
    "import requests\n",
    "\n",
    "vvboardip='192.168.3.42'\n",
    "pin='D13'\n",
    "value=1\n",
    "t=1\n",
    "payload = {\"pin\":pin,'value':value,'type':t}\n",
    "re = requests.post(url='http://'+ vvboardip +':1024/',params=payload) \n",
    "if (re.status_code==200):\n",
    "    r=re.json()\n",
    "    print('成功发送控制命令:'+ r[\"msg\"]) \n",
    "    print('返回的信息为：') \n",
    "    print(re.text) "
   ]
  },
  {
   "cell_type": "markdown",
   "metadata": {},
   "source": [
    "### 2.2. 调用GET方法，读取A0号引脚的电平。\n",
    "\n",
    "在该案例中可以修改的参数有:\n",
    "\n",
    "    - url:设置成虚谷号的IP地址\n",
    "    - pin:对应的引脚 A0-A5，D0-D13 \n",
    "    \n",
    "注意：该方法需要外接传感器，否则数字口默认返回为低电平，模拟口返回随机数。"
   ]
  },
  {
   "cell_type": "code",
   "execution_count": 2,
   "metadata": {},
   "outputs": [
    {
     "name": "stdout",
     "output_type": "stream",
     "text": [
      "成功获取引脚A0的状态:393\n",
      "返回的原始信息为：\n",
      "{\n",
      "    \"error_code\": 0,\n",
      "    \"msg\": \"393\",\n",
      "    \"pin\": \"A0\"\n",
      "}\n"
     ]
    }
   ],
   "source": [
    "import requests\n",
    "\n",
    "vvboardip='192.168.3.42'\n",
    "pin='A0'\n",
    "payload = {\"pin\":pin}\n",
    "re = requests.get(url='http://'+ vvboardip +':1024/',params=payload) \n",
    "if (re.status_code==200):\n",
    "    r=re.json()\n",
    "    print('成功获取引脚'+ r[\"pin\"] + '的状态:'+ r[\"msg\"]) \n",
    "    print('返回的原始信息为：') \n",
    "    print(re.text) "
   ]
  },
  {
   "cell_type": "markdown",
   "metadata": {},
   "source": [
    "## 3. 其他说明"
   ]
  },
  {
   "cell_type": "markdown",
   "metadata": {},
   "source": [
    "1.手机上快速控制，如何实现？\n",
    "\n",
    "访问：http://192.168.3.42:1024/help/\n",
    "\n",
    "可以直接在网页上测试接口。"
   ]
  },
  {
   "cell_type": "markdown",
   "metadata": {},
   "source": [
    "2.App invntor如何借助这一接口与虚谷号互动？\n",
    "\n",
    "请参考github，提供了范例。\n",
    "\n",
    "https://github.com/vvlink/vvBoard-docs/tree/master/webgpio，"
   ]
  },
  {
   "cell_type": "markdown",
   "metadata": {},
   "source": [
    "3.掌控板如何利用这一接口与虚谷号互动？\n",
    "\n",
    "掌控板中提供了urequests库，在mPython软件中可以编写发送Http请求的应用。\n",
    "\n",
    "另外，掌控板中提供了WebtinyIO，使用方式和虚谷号的WebGPIO基本一致。"
   ]
  },
  {
   "cell_type": "code",
   "execution_count": null,
   "metadata": {},
   "outputs": [],
   "source": []
  }
 ],
 "metadata": {
  "kernelspec": {
   "display_name": "Python 3",
   "language": "python",
   "name": "python3"
  },
  "language_info": {
   "codemirror_mode": {
    "name": "ipython",
    "version": 3
   },
   "file_extension": ".py",
   "mimetype": "text/x-python",
   "name": "python",
   "nbconvert_exporter": "python",
   "pygments_lexer": "ipython3",
   "version": "3.5.2"
  }
 },
 "nbformat": 4,
 "nbformat_minor": 2
}
